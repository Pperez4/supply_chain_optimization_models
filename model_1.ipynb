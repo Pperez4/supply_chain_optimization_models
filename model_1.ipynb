{
 "cells": [
  {
   "cell_type": "markdown",
   "id": "91e4101e",
   "metadata": {},
   "source": [
    "### INTEGER PROGRAMMING MODEL FOR A SOLAR PANEL MANUFACTURER SEEKING A COST EFFECTIVE DISTRIBUTION NETWORK "
   ]
  },
  {
   "cell_type": "code",
   "execution_count": null,
   "id": "3d503c27",
   "metadata": {},
   "outputs": [],
   "source": [
    "#========================================\n",
    "# libraries used in mode \n",
    "#========================================\n",
    "\n",
    "import folium as fl # allows creating geogeografic maps\n",
    "import random as rm # random numbers to create data\n",
    "import pandas as pd # dataframes\n",
    "from pulp import * # IP, LP or MIP optimization models"
   ]
  },
  {
   "cell_type": "markdown",
   "id": "5b16c550",
   "metadata": {},
   "source": [
    "### MAP WITH AVAILABLE WAREHOUSES (ORIGIN NODES) IN THE NETWORK"
   ]
  },
  {
   "cell_type": "code",
   "execution_count": 4,
   "id": "9d4eb426",
   "metadata": {},
   "outputs": [
    {
     "data": {
      "text/html": [
       "<div style=\"width:100%;\"><div style=\"position:relative;width:100%;height:0;padding-bottom:60%;\"><span style=\"color:#565656\">Make this Notebook Trusted to load map: File -> Trust Notebook</span><iframe srcdoc=\"&lt;!DOCTYPE html&gt;\n",
       "&lt;html&gt;\n",
       "&lt;head&gt;\n",
       "    \n",
       "    &lt;meta http-equiv=&quot;content-type&quot; content=&quot;text/html; charset=UTF-8&quot; /&gt;\n",
       "    \n",
       "        &lt;script&gt;\n",
       "            L_NO_TOUCH = false;\n",
       "            L_DISABLE_3D = false;\n",
       "        &lt;/script&gt;\n",
       "    \n",
       "    &lt;style&gt;html, body {width: 100%;height: 100%;margin: 0;padding: 0;}&lt;/style&gt;\n",
       "    &lt;style&gt;#map {position:absolute;top:0;bottom:0;right:0;left:0;}&lt;/style&gt;\n",
       "    &lt;script src=&quot;https://cdn.jsdelivr.net/npm/leaflet@1.9.3/dist/leaflet.js&quot;&gt;&lt;/script&gt;\n",
       "    &lt;script src=&quot;https://code.jquery.com/jquery-1.12.4.min.js&quot;&gt;&lt;/script&gt;\n",
       "    &lt;script src=&quot;https://cdn.jsdelivr.net/npm/bootstrap@5.2.2/dist/js/bootstrap.bundle.min.js&quot;&gt;&lt;/script&gt;\n",
       "    &lt;script src=&quot;https://cdnjs.cloudflare.com/ajax/libs/Leaflet.awesome-markers/2.0.2/leaflet.awesome-markers.js&quot;&gt;&lt;/script&gt;\n",
       "    &lt;link rel=&quot;stylesheet&quot; href=&quot;https://cdn.jsdelivr.net/npm/leaflet@1.9.3/dist/leaflet.css&quot;/&gt;\n",
       "    &lt;link rel=&quot;stylesheet&quot; href=&quot;https://cdn.jsdelivr.net/npm/bootstrap@5.2.2/dist/css/bootstrap.min.css&quot;/&gt;\n",
       "    &lt;link rel=&quot;stylesheet&quot; href=&quot;https://netdna.bootstrapcdn.com/bootstrap/3.0.0/css/bootstrap.min.css&quot;/&gt;\n",
       "    &lt;link rel=&quot;stylesheet&quot; href=&quot;https://cdn.jsdelivr.net/npm/@fortawesome/fontawesome-free@6.2.0/css/all.min.css&quot;/&gt;\n",
       "    &lt;link rel=&quot;stylesheet&quot; href=&quot;https://cdnjs.cloudflare.com/ajax/libs/Leaflet.awesome-markers/2.0.2/leaflet.awesome-markers.css&quot;/&gt;\n",
       "    &lt;link rel=&quot;stylesheet&quot; href=&quot;https://cdn.jsdelivr.net/gh/python-visualization/folium/folium/templates/leaflet.awesome.rotate.min.css&quot;/&gt;\n",
       "    \n",
       "            &lt;meta name=&quot;viewport&quot; content=&quot;width=device-width,\n",
       "                initial-scale=1.0, maximum-scale=1.0, user-scalable=no&quot; /&gt;\n",
       "            &lt;style&gt;\n",
       "                #map_f888b09c9544426da88fd370d187cd43 {\n",
       "                    position: relative;\n",
       "                    width: 100.0%;\n",
       "                    height: 100.0%;\n",
       "                    left: 0.0%;\n",
       "                    top: 0.0%;\n",
       "                }\n",
       "                .leaflet-container { font-size: 1rem; }\n",
       "            &lt;/style&gt;\n",
       "        \n",
       "&lt;/head&gt;\n",
       "&lt;body&gt;\n",
       "    \n",
       "    \n",
       "            &lt;div class=&quot;folium-map&quot; id=&quot;map_f888b09c9544426da88fd370d187cd43&quot; &gt;&lt;/div&gt;\n",
       "        \n",
       "&lt;/body&gt;\n",
       "&lt;script&gt;\n",
       "    \n",
       "    \n",
       "            var map_f888b09c9544426da88fd370d187cd43 = L.map(\n",
       "                &quot;map_f888b09c9544426da88fd370d187cd43&quot;,\n",
       "                {\n",
       "                    center: [40.964863, -104.775263],\n",
       "                    crs: L.CRS.EPSG3857,\n",
       "                    zoom: 5,\n",
       "                    zoomControl: true,\n",
       "                    preferCanvas: false,\n",
       "                }\n",
       "            );\n",
       "\n",
       "            \n",
       "\n",
       "        \n",
       "    \n",
       "            var tile_layer_17459c9581498a21b6adae28621119fa = L.tileLayer(\n",
       "                &quot;https://{s}.tile.openstreetmap.org/{z}/{x}/{y}.png&quot;,\n",
       "                {&quot;attribution&quot;: &quot;Data by \\u0026copy; \\u003ca target=\\&quot;_blank\\&quot; href=\\&quot;http://openstreetmap.org\\&quot;\\u003eOpenStreetMap\\u003c/a\\u003e, under \\u003ca target=\\&quot;_blank\\&quot; href=\\&quot;http://www.openstreetmap.org/copyright\\&quot;\\u003eODbL\\u003c/a\\u003e.&quot;, &quot;detectRetina&quot;: false, &quot;maxNativeZoom&quot;: 18, &quot;maxZoom&quot;: 18, &quot;minZoom&quot;: 0, &quot;noWrap&quot;: false, &quot;opacity&quot;: 1, &quot;subdomains&quot;: &quot;abc&quot;, &quot;tms&quot;: false}\n",
       "            ).addTo(map_f888b09c9544426da88fd370d187cd43);\n",
       "        \n",
       "    \n",
       "            var marker_3aa207f01039bd8b134b2d5766b34270 = L.marker(\n",
       "                [33.830302, -116.546843],\n",
       "                {}\n",
       "            ).addTo(map_f888b09c9544426da88fd370d187cd43);\n",
       "        \n",
       "    \n",
       "        var popup_feea639a8bbb9d946d340df588354aa7 = L.popup({&quot;maxWidth&quot;: &quot;100%&quot;});\n",
       "\n",
       "        \n",
       "            \n",
       "                var html_28c01de732080a36531265c32f46fd96 = $(`&lt;div id=&quot;html_28c01de732080a36531265c32f46fd96&quot; style=&quot;width: 100.0%; height: 100.0%;&quot;&gt;Palms Springs, CA&lt;/div&gt;`)[0];\n",
       "                popup_feea639a8bbb9d946d340df588354aa7.setContent(html_28c01de732080a36531265c32f46fd96);\n",
       "            \n",
       "        \n",
       "\n",
       "        marker_3aa207f01039bd8b134b2d5766b34270.bindPopup(popup_feea639a8bbb9d946d340df588354aa7)\n",
       "        ;\n",
       "\n",
       "        \n",
       "    \n",
       "    \n",
       "            var marker_24c59d005e7684e78336665de8c6ba64 = L.marker(\n",
       "                [38.581573, -121.4944],\n",
       "                {}\n",
       "            ).addTo(map_f888b09c9544426da88fd370d187cd43);\n",
       "        \n",
       "    \n",
       "        var popup_a39d429c44c88b87ca0db40d142faf31 = L.popup({&quot;maxWidth&quot;: &quot;100%&quot;});\n",
       "\n",
       "        \n",
       "            \n",
       "                var html_c528dd60337c5c812517f2e68bebc081 = $(`&lt;div id=&quot;html_c528dd60337c5c812517f2e68bebc081&quot; style=&quot;width: 100.0%; height: 100.0%;&quot;&gt;Sacramento, CA&lt;/div&gt;`)[0];\n",
       "                popup_a39d429c44c88b87ca0db40d142faf31.setContent(html_c528dd60337c5c812517f2e68bebc081);\n",
       "            \n",
       "        \n",
       "\n",
       "        marker_24c59d005e7684e78336665de8c6ba64.bindPopup(popup_a39d429c44c88b87ca0db40d142faf31)\n",
       "        ;\n",
       "\n",
       "        \n",
       "    \n",
       "    \n",
       "            var marker_99db1a87e7eca94cdf8d7ef28494aadc = L.marker(\n",
       "                [29.759935, -95.364238],\n",
       "                {}\n",
       "            ).addTo(map_f888b09c9544426da88fd370d187cd43);\n",
       "        \n",
       "    \n",
       "        var popup_ffd7d4631eb04b0ec3e98843aeb47a56 = L.popup({&quot;maxWidth&quot;: &quot;100%&quot;});\n",
       "\n",
       "        \n",
       "            \n",
       "                var html_09c27bbc9e2fe22a45bf70656d7282a3 = $(`&lt;div id=&quot;html_09c27bbc9e2fe22a45bf70656d7282a3&quot; style=&quot;width: 100.0%; height: 100.0%;&quot;&gt;Huston, TX&lt;/div&gt;`)[0];\n",
       "                popup_ffd7d4631eb04b0ec3e98843aeb47a56.setContent(html_09c27bbc9e2fe22a45bf70656d7282a3);\n",
       "            \n",
       "        \n",
       "\n",
       "        marker_99db1a87e7eca94cdf8d7ef28494aadc.bindPopup(popup_ffd7d4631eb04b0ec3e98843aeb47a56)\n",
       "        ;\n",
       "\n",
       "        \n",
       "    \n",
       "    \n",
       "            var marker_d1720d509d8f54e6e08dd1a44784f8d1 = L.marker(\n",
       "                [41.588821, -93.620308],\n",
       "                {}\n",
       "            ).addTo(map_f888b09c9544426da88fd370d187cd43);\n",
       "        \n",
       "    \n",
       "        var popup_06cf375bcddb30c21eb846c13618ce2b = L.popup({&quot;maxWidth&quot;: &quot;100%&quot;});\n",
       "\n",
       "        \n",
       "            \n",
       "                var html_e252d64db709066277edba64ffbc4a4f = $(`&lt;div id=&quot;html_e252d64db709066277edba64ffbc4a4f&quot; style=&quot;width: 100.0%; height: 100.0%;&quot;&gt;Des Moines, IO&lt;/div&gt;`)[0];\n",
       "                popup_06cf375bcddb30c21eb846c13618ce2b.setContent(html_e252d64db709066277edba64ffbc4a4f);\n",
       "            \n",
       "        \n",
       "\n",
       "        marker_d1720d509d8f54e6e08dd1a44784f8d1.bindPopup(popup_06cf375bcddb30c21eb846c13618ce2b)\n",
       "        ;\n",
       "\n",
       "        \n",
       "    \n",
       "    \n",
       "            var marker_f79e666d2024f82a16adb2fdb6107b19 = L.marker(\n",
       "                [33.748997, -84.387985],\n",
       "                {}\n",
       "            ).addTo(map_f888b09c9544426da88fd370d187cd43);\n",
       "        \n",
       "    \n",
       "        var popup_14669c612812b00815f9374f2d1095cc = L.popup({&quot;maxWidth&quot;: &quot;100%&quot;});\n",
       "\n",
       "        \n",
       "            \n",
       "                var html_426b0fbe9a5732c7566134ea9dba9379 = $(`&lt;div id=&quot;html_426b0fbe9a5732c7566134ea9dba9379&quot; style=&quot;width: 100.0%; height: 100.0%;&quot;&gt;Atlanta, GA&lt;/div&gt;`)[0];\n",
       "                popup_14669c612812b00815f9374f2d1095cc.setContent(html_426b0fbe9a5732c7566134ea9dba9379);\n",
       "            \n",
       "        \n",
       "\n",
       "        marker_f79e666d2024f82a16adb2fdb6107b19.bindPopup(popup_14669c612812b00815f9374f2d1095cc)\n",
       "        ;\n",
       "\n",
       "        \n",
       "    \n",
       "    \n",
       "            var marker_3ea960abfc4d3d81038676251626603c = L.marker(\n",
       "                [39.952583, -75.165222],\n",
       "                {}\n",
       "            ).addTo(map_f888b09c9544426da88fd370d187cd43);\n",
       "        \n",
       "    \n",
       "        var popup_357b075daa3c5d9c323f3f042c1de9e1 = L.popup({&quot;maxWidth&quot;: &quot;100%&quot;});\n",
       "\n",
       "        \n",
       "            \n",
       "                var html_9ba945b9fc6185b459b1c9603a3c552a = $(`&lt;div id=&quot;html_9ba945b9fc6185b459b1c9603a3c552a&quot; style=&quot;width: 100.0%; height: 100.0%;&quot;&gt;Philadelphia, PA&lt;/div&gt;`)[0];\n",
       "                popup_357b075daa3c5d9c323f3f042c1de9e1.setContent(html_9ba945b9fc6185b459b1c9603a3c552a);\n",
       "            \n",
       "        \n",
       "\n",
       "        marker_3ea960abfc4d3d81038676251626603c.bindPopup(popup_357b075daa3c5d9c323f3f042c1de9e1)\n",
       "        ;\n",
       "\n",
       "        \n",
       "    \n",
       "&lt;/script&gt;\n",
       "&lt;/html&gt;\" style=\"position:absolute;width:100%;height:100%;left:0;top:0;border:none !important;\" allowfullscreen webkitallowfullscreen mozallowfullscreen></iframe></div></div>"
      ],
      "text/plain": [
       "<folium.folium.Map at 0x7e7d27624d40>"
      ]
     },
     "execution_count": 4,
     "metadata": {},
     "output_type": "execute_result"
    }
   ],
   "source": [
    "#------------------------------------------------\n",
    "# Folium map takes two arguments \n",
    "# * location: --> [latitude, longitude]\n",
    "# * zoom\n",
    "# * I obtained the location latitude and longitude\n",
    "# from https://www.latlong.net/\n",
    "#------------------------------------------------\n",
    "map = fl.Map(location=[40.964863,-104.775263], zoom_start=5)\n",
    "fl.Marker(location=[33.830302, -116.546843], popup=\"Palms Springs, CA\").add_to(map)\n",
    "fl.Marker(location=[38.581573, -121.494400], popup=\"Sacramento, CA\").add_to(map)\n",
    "fl.Marker(location=[29.759935, -95.364238], popup=\"Huston, TX\").add_to(map)\n",
    "fl.Marker(location=[41.588821, -93.620308], popup=\"Des Moines, IO\").add_to(map)\n",
    "fl.Marker(location=[33.748997, -84.387985], popup=\"Atlanta, GA\").add_to(map)\n",
    "fl.Marker(location=[39.952583, -75.165222], popup=\"Philadelphia, PA\").add_to(map)\n",
    "map"
   ]
  },
  {
   "cell_type": "code",
   "execution_count": 5,
   "id": "f2a3be15",
   "metadata": {},
   "outputs": [],
   "source": [
    "warehouses = ['Palm Springs','Sacramento','Huston','Atlanta','Des Moines','Philadelpia']\n",
    "customers = ['Chicago','St George','Gary','Madison','Buffalo','Tampa','New Orleans','Denver','Phoemix','New Milford']"
   ]
  },
  {
   "cell_type": "code",
   "execution_count": 6,
   "id": "0be4ad68",
   "metadata": {},
   "outputs": [
    {
     "data": {
      "text/plain": [
       "<Axes: title={'center': 'Customer Demand'}, xlabel='Customer'>"
      ]
     },
     "execution_count": 6,
     "metadata": {},
     "output_type": "execute_result"
    },
    {
     "data": {
      "image/png": "[encoded data removed]",
      "text/plain": [
       "<Figure size 640x480 with 1 Axes>"
      ]
     },
     "metadata": {},
     "output_type": "display_data"
    }
   ],
   "source": [
    "#=====================================================\n",
    "# generating random numbers to simulate monthy demand\n",
    "#=====================================================\n",
    "n = 10 \n",
    "demand = rm.sample(range(50000,300000), n)\n",
    "customer_demand = dict(zip(customers, demand))\n",
    "customer_demand_dataframe = pd.DataFrame(list(customer_demand.items()), columns=['Customer', 'Demand'])\n",
    "customer_demand_dataframe.plot(kind='bar', x='Customer', y='Demand', title='Customer Demand')\n"
   ]
  },
  {
   "cell_type": "code",
   "execution_count": 7,
   "id": "15e34313",
   "metadata": {},
   "outputs": [
    {
     "data": {
      "text/plain": [
       "count        10.000000\n",
       "mean     171824.900000\n",
       "std       68733.921718\n",
       "min       65987.000000\n",
       "25%      137012.500000\n",
       "50%      174215.500000\n",
       "75%      224641.000000\n",
       "max      259608.000000\n",
       "Name: Demand, dtype: float64"
      ]
     },
     "execution_count": 7,
     "metadata": {},
     "output_type": "execute_result"
    }
   ],
   "source": [
    "customer_demand_dataframe['Demand'].describe()"
   ]
  },
  {
   "cell_type": "code",
   "execution_count": 8,
   "id": "14cf840f",
   "metadata": {},
   "outputs": [],
   "source": [
    "n_p=60"
   ]
  },
  {
   "cell_type": "code",
   "execution_count": 9,
   "id": "a665c021",
   "metadata": {},
   "outputs": [
    {
     "data": {
      "text/plain": [
       "{('Palm Springs', 'Chicago'): 84,\n",
       " ('Palm Springs', 'St George'): 72,\n",
       " ('Palm Springs', 'Gary'): 81,\n",
       " ('Palm Springs', 'Madison'): 80,\n",
       " ('Palm Springs', 'Buffalo'): 91,\n",
       " ('Palm Springs', 'Tampa'): 94,\n",
       " ('Palm Springs', 'New Orleans'): 71,\n",
       " ('Palm Springs', 'Denver'): 71,\n",
       " ('Palm Springs', 'Phoemix'): 80,\n",
       " ('Palm Springs', 'New Milford'): 92,\n",
       " ('Sacramento', 'Chicago'): 73,\n",
       " ('Sacramento', 'St George'): 90,\n",
       " ('Sacramento', 'Gary'): 83,\n",
       " ('Sacramento', 'Madison'): 80,\n",
       " ('Sacramento', 'Buffalo'): 84,\n",
       " ('Sacramento', 'Tampa'): 76,\n",
       " ('Sacramento', 'New Orleans'): 80,\n",
       " ('Sacramento', 'Denver'): 71,\n",
       " ('Sacramento', 'Phoemix'): 77,\n",
       " ('Sacramento', 'New Milford'): 74,\n",
       " ('Huston', 'Chicago'): 77,\n",
       " ('Huston', 'St George'): 79,\n",
       " ('Huston', 'Gary'): 86,\n",
       " ('Huston', 'Madison'): 82,\n",
       " ('Huston', 'Buffalo'): 92,\n",
       " ('Huston', 'Tampa'): 89,\n",
       " ('Huston', 'New Orleans'): 71,\n",
       " ('Huston', 'Denver'): 87,\n",
       " ('Huston', 'Phoemix'): 92,\n",
       " ('Huston', 'New Milford'): 87,\n",
       " ('Atlanta', 'Chicago'): 88,\n",
       " ('Atlanta', 'St George'): 73,\n",
       " ('Atlanta', 'Gary'): 91,\n",
       " ('Atlanta', 'Madison'): 90,\n",
       " ('Atlanta', 'Buffalo'): 76,\n",
       " ('Atlanta', 'Tampa'): 78,\n",
       " ('Atlanta', 'New Orleans'): 83,\n",
       " ('Atlanta', 'Denver'): 73,\n",
       " ('Atlanta', 'Phoemix'): 93,\n",
       " ('Atlanta', 'New Milford'): 72,\n",
       " ('Des Moines', 'Chicago'): 76,\n",
       " ('Des Moines', 'St George'): 72,\n",
       " ('Des Moines', 'Gary'): 70,\n",
       " ('Des Moines', 'Madison'): 77,\n",
       " ('Des Moines', 'Buffalo'): 72,\n",
       " ('Des Moines', 'Tampa'): 75,\n",
       " ('Des Moines', 'New Orleans'): 70,\n",
       " ('Des Moines', 'Denver'): 87,\n",
       " ('Des Moines', 'Phoemix'): 84,\n",
       " ('Des Moines', 'New Milford'): 93,\n",
       " ('Philadelpia', 'Chicago'): 80,\n",
       " ('Philadelpia', 'St George'): 75,\n",
       " ('Philadelpia', 'Gary'): 91,\n",
       " ('Philadelpia', 'Madison'): 70,\n",
       " ('Philadelpia', 'Buffalo'): 77,\n",
       " ('Philadelpia', 'Tampa'): 90,\n",
       " ('Philadelpia', 'New Orleans'): 93,\n",
       " ('Philadelpia', 'Denver'): 75,\n",
       " ('Philadelpia', 'Phoemix'): 92,\n",
       " ('Philadelpia', 'New Milford'): 87}"
      ]
     },
     "execution_count": 9,
     "metadata": {},
     "output_type": "execute_result"
    }
   ],
   "source": [
    "shipping_prices = rm.choices(range(70,95), k=n_p)\n",
    "key = [(w,c) for w in warehouses for c in customers]\n",
    "cost_dict = dict(zip(key, shipping_prices))\n",
    "cost_dict"
   ]
  },
  {
   "cell_type": "code",
   "execution_count": 10,
   "id": "9a813b14",
   "metadata": {},
   "outputs": [
    {
     "name": "stderr",
     "output_type": "stream",
     "text": [
      "/workspaces/supply_chain_optimization_models/.conda/lib/python3.12/site-packages/pulp/pulp.py:1489: UserWarning: Spaces are not permitted in the name. Converted to '_'\n",
      "  warnings.warn(\"Spaces are not permitted in the name. Converted to '_'\")\n"
     ]
    }
   ],
   "source": [
    "\n",
    "# Initialize Model\n",
    "model = LpProblem(\"Minimize Shipping Costs\", LpMinimize)"
   ]
  },
  {
   "cell_type": "code",
   "execution_count": 11,
   "id": "07db3e9b",
   "metadata": {},
   "outputs": [],
   "source": [
    "# Define decision variables\n",
    "key = [(w, c) for w in warehouses for c in customers]\n",
    "var_dict = LpVariable.dicts('num_of_shipments', \n",
    "                            key, \n",
    "                            lowBound=0, cat='Integer')"
   ]
  },
  {
   "cell_type": "code",
   "execution_count": 12,
   "id": "6f0a1864",
   "metadata": {},
   "outputs": [],
   "source": [
    "model += lpSum([cost_dict[(w, c)] * var_dict[(w, c)] \n",
    "                for w in warehouses for c in customers])"
   ]
  },
  {
   "cell_type": "code",
   "execution_count": 13,
   "id": "7f986902",
   "metadata": {},
   "outputs": [],
   "source": [
    "for c in customers:\n",
    "    model += lpSum([var_dict[(w,c)] for w in warehouses]) == customer_demand[c]"
   ]
  },
  {
   "cell_type": "code",
   "execution_count": 14,
   "id": "21467057",
   "metadata": {},
   "outputs": [
    {
     "data": {
      "text/plain": [
       "{'Chicago': 144957,\n",
       " 'St George': 225748,\n",
       " 'Gary': 75951,\n",
       " 'Madison': 142531,\n",
       " 'Buffalo': 259608,\n",
       " 'Tampa': 135173,\n",
       " 'New Orleans': 221320,\n",
       " 'Denver': 243500,\n",
       " 'Phoemix': 65987,\n",
       " 'New Milford': 203474}"
      ]
     },
     "execution_count": 14,
     "metadata": {},
     "output_type": "execute_result"
    }
   ],
   "source": [
    "customer_demand"
   ]
  },
  {
   "cell_type": "code",
   "execution_count": 15,
   "id": "043d014c",
   "metadata": {},
   "outputs": [
    {
     "name": "stdout",
     "output_type": "stream",
     "text": [
      "Welcome to the CBC MILP Solver \n",
      "Version: 2.10.3 \n",
      "Build Date: Dec 15 2019 \n",
      "\n",
      "command line - /workspaces/supply_chain_optimization_models/.conda/lib/python3.12/site-packages/pulp/apis/../solverdir/cbc/linux/i64/cbc /tmp/99a8a90584424bb4bab19c045dd0ef9d-pulp.mps -timeMode elapsed -branch -printingOptions all -solution /tmp/99a8a90584424bb4bab19c045dd0ef9d-pulp.sol (default strategy 1)\n",
      "At line 2 NAME          MODEL\n",
      "At line 3 ROWS\n",
      "At line 15 COLUMNS\n",
      "At line 256 RHS\n",
      "At line 267 BOUNDS\n",
      "At line 328 ENDATA\n",
      "Problem MODEL has 10 rows, 60 columns and 60 elements\n",
      "Coin0008I MODEL read with 0 errors\n",
      "Option for timeMode changed from cpu to elapsed\n",
      "Continuous objective value is 1.23471e+08 - 0.00 seconds\n",
      "Cgl0004I processed model has 0 rows, 0 columns (0 integer (0 of which binary)) and 0 elements\n",
      "Cbc3007W No integer variables - nothing to do\n",
      "Cuts at root node changed objective from 1.23471e+08 to -1.79769e+308\n",
      "Probing was tried 0 times and created 0 cuts of which 0 were active after adding rounds of cuts (0.000 seconds)\n",
      "Gomory was tried 0 times and created 0 cuts of which 0 were active after adding rounds of cuts (0.000 seconds)\n",
      "Knapsack was tried 0 times and created 0 cuts of which 0 were active after adding rounds of cuts (0.000 seconds)\n",
      "Clique was tried 0 times and created 0 cuts of which 0 were active after adding rounds of cuts (0.000 seconds)\n",
      "MixedIntegerRounding2 was tried 0 times and created 0 cuts of which 0 were active after adding rounds of cuts (0.000 seconds)\n",
      "FlowCover was tried 0 times and created 0 cuts of which 0 were active after adding rounds of cuts (0.000 seconds)\n",
      "TwoMirCuts was tried 0 times and created 0 cuts of which 0 were active after adding rounds of cuts (0.000 seconds)\n",
      "ZeroHalf was tried 0 times and created 0 cuts of which 0 were active after adding rounds of cuts (0.000 seconds)\n",
      "\n",
      "Result - Optimal solution found\n",
      "\n",
      "Objective value:                123471235.00000000\n",
      "Enumerated nodes:               0\n",
      "Total iterations:               0\n",
      "Time (CPU seconds):             0.00\n",
      "Time (Wallclock seconds):       0.00\n",
      "\n",
      "Option for printingOptions changed from normal to all\n",
      "Total time (CPU seconds):       0.00   (Wallclock seconds):       0.00\n",
      "\n",
      "Model Status: Optimal\n"
     ]
    }
   ],
   "source": [
    "model.solve()\n",
    "\n",
    "# Print the Model Status\n",
    "print(\"Model Status: {}\".format(LpStatus[model.status]))"
   ]
  },
  {
   "cell_type": "code",
   "execution_count": 16,
   "id": "d6d40949",
   "metadata": {},
   "outputs": [
    {
     "name": "stdout",
     "output_type": "stream",
     "text": [
      "num_of_shipments_('Atlanta',_'Buffalo') = 0.0\n",
      "num_of_shipments_('Atlanta',_'Chicago') = 0.0\n",
      "num_of_shipments_('Atlanta',_'Denver') = 0.0\n",
      "num_of_shipments_('Atlanta',_'Gary') = 0.0\n",
      "num_of_shipments_('Atlanta',_'Madison') = 0.0\n",
      "num_of_shipments_('Atlanta',_'New_Milford') = 203474.0\n",
      "num_of_shipments_('Atlanta',_'New_Orleans') = 0.0\n",
      "num_of_shipments_('Atlanta',_'Phoemix') = 0.0\n",
      "num_of_shipments_('Atlanta',_'St_George') = 0.0\n",
      "num_of_shipments_('Atlanta',_'Tampa') = 0.0\n",
      "num_of_shipments_('Des_Moines',_'Buffalo') = 259608.0\n",
      "num_of_shipments_('Des_Moines',_'Chicago') = 0.0\n",
      "num_of_shipments_('Des_Moines',_'Denver') = 0.0\n",
      "num_of_shipments_('Des_Moines',_'Gary') = 75951.0\n",
      "num_of_shipments_('Des_Moines',_'Madison') = 0.0\n",
      "num_of_shipments_('Des_Moines',_'New_Milford') = 0.0\n",
      "num_of_shipments_('Des_Moines',_'New_Orleans') = 221320.0\n",
      "num_of_shipments_('Des_Moines',_'Phoemix') = 0.0\n",
      "num_of_shipments_('Des_Moines',_'St_George') = 0.0\n",
      "num_of_shipments_('Des_Moines',_'Tampa') = 135173.0\n",
      "num_of_shipments_('Huston',_'Buffalo') = 0.0\n",
      "num_of_shipments_('Huston',_'Chicago') = 0.0\n",
      "num_of_shipments_('Huston',_'Denver') = 0.0\n",
      "num_of_shipments_('Huston',_'Gary') = 0.0\n",
      "num_of_shipments_('Huston',_'Madison') = 0.0\n",
      "num_of_shipments_('Huston',_'New_Milford') = 0.0\n",
      "num_of_shipments_('Huston',_'New_Orleans') = 0.0\n",
      "num_of_shipments_('Huston',_'Phoemix') = 0.0\n",
      "num_of_shipments_('Huston',_'St_George') = 0.0\n",
      "num_of_shipments_('Huston',_'Tampa') = 0.0\n",
      "num_of_shipments_('Palm_Springs',_'Buffalo') = 0.0\n",
      "num_of_shipments_('Palm_Springs',_'Chicago') = 0.0\n",
      "num_of_shipments_('Palm_Springs',_'Denver') = 243500.0\n",
      "num_of_shipments_('Palm_Springs',_'Gary') = 0.0\n",
      "num_of_shipments_('Palm_Springs',_'Madison') = 0.0\n",
      "num_of_shipments_('Palm_Springs',_'New_Milford') = 0.0\n",
      "num_of_shipments_('Palm_Springs',_'New_Orleans') = 0.0\n",
      "num_of_shipments_('Palm_Springs',_'Phoemix') = 0.0\n",
      "num_of_shipments_('Palm_Springs',_'St_George') = 225748.0\n",
      "num_of_shipments_('Palm_Springs',_'Tampa') = 0.0\n",
      "num_of_shipments_('Philadelpia',_'Buffalo') = 0.0\n",
      "num_of_shipments_('Philadelpia',_'Chicago') = 0.0\n",
      "num_of_shipments_('Philadelpia',_'Denver') = 0.0\n",
      "num_of_shipments_('Philadelpia',_'Gary') = 0.0\n",
      "num_of_shipments_('Philadelpia',_'Madison') = 142531.0\n",
      "num_of_shipments_('Philadelpia',_'New_Milford') = 0.0\n",
      "num_of_shipments_('Philadelpia',_'New_Orleans') = 0.0\n",
      "num_of_shipments_('Philadelpia',_'Phoemix') = 0.0\n",
      "num_of_shipments_('Philadelpia',_'St_George') = 0.0\n",
      "num_of_shipments_('Philadelpia',_'Tampa') = 0.0\n",
      "num_of_shipments_('Sacramento',_'Buffalo') = 0.0\n",
      "num_of_shipments_('Sacramento',_'Chicago') = 144957.0\n",
      "num_of_shipments_('Sacramento',_'Denver') = 0.0\n",
      "num_of_shipments_('Sacramento',_'Gary') = 0.0\n",
      "num_of_shipments_('Sacramento',_'Madison') = 0.0\n",
      "num_of_shipments_('Sacramento',_'New_Milford') = 0.0\n",
      "num_of_shipments_('Sacramento',_'New_Orleans') = 0.0\n",
      "num_of_shipments_('Sacramento',_'Phoemix') = 65987.0\n",
      "num_of_shipments_('Sacramento',_'St_George') = 0.0\n",
      "num_of_shipments_('Sacramento',_'Tampa') = 0.0\n"
     ]
    }
   ],
   "source": [
    "# Print the Decision Variables\n",
    "for v in model.variables():\n",
    "    print(v.name, \"=\", v.varValue)"
   ]
  },
  {
   "cell_type": "code",
   "execution_count": 17,
   "id": "e20ba951",
   "metadata": {},
   "outputs": [
    {
     "name": "stdout",
     "output_type": "stream",
     "text": [
      "Objective =  123471235.0\n"
     ]
    }
   ],
   "source": [
    "# Print the Objective Value\n",
    "print(\"Objective = \", value(model.objective))"
   ]
  },
  {
   "cell_type": "markdown",
   "id": "9bd21c21",
   "metadata": {},
   "source": [
    "- shadow price\n",
    "    - represents changes in total cost associated with a unit increase in demand in a given region\n",
    "- slack\n",
    "    - should be = 0"
   ]
  },
  {
   "cell_type": "code",
   "execution_count": 18,
   "id": "08d924a2",
   "metadata": {},
   "outputs": [
    {
     "data": {
      "text/html": [
       "<div>\n",
       "<style scoped>\n",
       "    .dataframe tbody tr th:only-of-type {\n",
       "        vertical-align: middle;\n",
       "    }\n",
       "\n",
       "    .dataframe tbody tr th {\n",
       "        vertical-align: top;\n",
       "    }\n",
       "\n",
       "    .dataframe thead th {\n",
       "        text-align: right;\n",
       "    }\n",
       "</style>\n",
       "<table border=\"1\" class=\"dataframe\">\n",
       "  <thead>\n",
       "    <tr style=\"text-align: right;\">\n",
       "      <th></th>\n",
       "      <th>name</th>\n",
       "      <th>shadow price</th>\n",
       "      <th>slack</th>\n",
       "    </tr>\n",
       "  </thead>\n",
       "  <tbody>\n",
       "    <tr>\n",
       "      <th>0</th>\n",
       "      <td>_C1</td>\n",
       "      <td>0.0</td>\n",
       "      <td>-0.0</td>\n",
       "    </tr>\n",
       "    <tr>\n",
       "      <th>1</th>\n",
       "      <td>_C2</td>\n",
       "      <td>0.0</td>\n",
       "      <td>-0.0</td>\n",
       "    </tr>\n",
       "    <tr>\n",
       "      <th>2</th>\n",
       "      <td>_C3</td>\n",
       "      <td>0.0</td>\n",
       "      <td>-0.0</td>\n",
       "    </tr>\n",
       "    <tr>\n",
       "      <th>3</th>\n",
       "      <td>_C4</td>\n",
       "      <td>0.0</td>\n",
       "      <td>-0.0</td>\n",
       "    </tr>\n",
       "    <tr>\n",
       "      <th>4</th>\n",
       "      <td>_C5</td>\n",
       "      <td>0.0</td>\n",
       "      <td>-0.0</td>\n",
       "    </tr>\n",
       "    <tr>\n",
       "      <th>5</th>\n",
       "      <td>_C6</td>\n",
       "      <td>0.0</td>\n",
       "      <td>-0.0</td>\n",
       "    </tr>\n",
       "    <tr>\n",
       "      <th>6</th>\n",
       "      <td>_C7</td>\n",
       "      <td>0.0</td>\n",
       "      <td>-0.0</td>\n",
       "    </tr>\n",
       "    <tr>\n",
       "      <th>7</th>\n",
       "      <td>_C8</td>\n",
       "      <td>0.0</td>\n",
       "      <td>-0.0</td>\n",
       "    </tr>\n",
       "    <tr>\n",
       "      <th>8</th>\n",
       "      <td>_C9</td>\n",
       "      <td>0.0</td>\n",
       "      <td>-0.0</td>\n",
       "    </tr>\n",
       "    <tr>\n",
       "      <th>9</th>\n",
       "      <td>_C10</td>\n",
       "      <td>0.0</td>\n",
       "      <td>-0.0</td>\n",
       "    </tr>\n",
       "  </tbody>\n",
       "</table>\n",
       "</div>"
      ],
      "text/plain": [
       "   name  shadow price  slack\n",
       "0   _C1           0.0   -0.0\n",
       "1   _C2           0.0   -0.0\n",
       "2   _C3           0.0   -0.0\n",
       "3   _C4           0.0   -0.0\n",
       "4   _C5           0.0   -0.0\n",
       "5   _C6           0.0   -0.0\n",
       "6   _C7           0.0   -0.0\n",
       "7   _C8           0.0   -0.0\n",
       "8   _C9           0.0   -0.0\n",
       "9  _C10           0.0   -0.0"
      ]
     },
     "execution_count": 18,
     "metadata": {},
     "output_type": "execute_result"
    }
   ],
   "source": [
    "# Print the Constraint Slack\n",
    "o = [{'name':name, 'shadow price':c.pi,'slack':c.slack} \n",
    "     for name, c in model.constraints.items()]\n",
    "o_df = pd.DataFrame(o)\n",
    "o_df"
   ]
  }
 ],
 "metadata": {
  "kernelspec": {
   "display_name": "Python 3",
   "language": "python",
   "name": "python3"
  },
  "language_info": {
   "codemirror_mode": {
    "name": "ipython",
    "version": 3
   },
   "file_extension": ".py",
   "mimetype": "text/x-python",
   "name": "python",
   "nbconvert_exporter": "python",
   "pygments_lexer": "ipython3",
   "version": "3.12.11"
  }
 },
 "nbformat": 4,
 "nbformat_minor": 5
}

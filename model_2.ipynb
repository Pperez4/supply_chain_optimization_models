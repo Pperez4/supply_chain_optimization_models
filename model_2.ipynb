{
 "cells": [
  {
   "cell_type": "markdown",
   "id": "6857ad59",
   "metadata": {},
   "source": [
    "### DEMAND PLANNING"
   ]
  }
 ],
 "metadata": {
  "language_info": {
   "name": "python"
  }
 },
 "nbformat": 4,
 "nbformat_minor": 5
}
